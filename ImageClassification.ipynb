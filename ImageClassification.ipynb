{
 "cells": [
  {
   "cell_type": "markdown",
   "id": "830a2092-63b3-441a-a761-933bf1f7acbf",
   "metadata": {
    "id": "830a2092-63b3-441a-a761-933bf1f7acbf"
   },
   "source": [
    "## Image Classification \n",
    "- Use Google Colab for the tutorial\n"
   ]
  },
  {
   "cell_type": "markdown",
   "id": "d8eb42b2-b9c8-47ad-b12f-238df6f249bf",
   "metadata": {},
   "source": [
    "### Key features of FastAI for image classification\n",
    "- Learning rate finder (`lr_find`)\n",
    "- Progressive resizing\n",
    "- Differential learning rates during fine-tuning\n",
    "- Powerful visualization:\n",
    "    - confusion matrix\n",
    "    - top losses analysis\n",
    "    - Model export/import with `.pkl` files\n",
    "\n",
    "You will get practice on all these features from this tutorial"
   ]
  },
  {
   "cell_type": "code",
   "execution_count": null,
   "id": "42d35da0-515b-4a77-80be-7f77921f1bfc",
   "metadata": {},
   "outputs": [],
   "source": []
  },
  {
   "cell_type": "code",
   "execution_count": null,
   "id": "ab88d25f-570f-433e-a810-71033b45ecce",
   "metadata": {
    "id": "ab88d25f-570f-433e-a810-71033b45ecce"
   },
   "outputs": [],
   "source": []
  },
  {
   "cell_type": "markdown",
   "id": "47c9af8f-8fc0-48aa-b470-aa7d5a952693",
   "metadata": {
    "id": "47c9af8f-8fc0-48aa-b470-aa7d5a952693"
   },
   "source": [
    "### Step 1: Setup Google Colab environment"
   ]
  },
  {
   "cell_type": "code",
   "execution_count": null,
   "id": "4fe85336-d7ff-4bfe-bce9-2ebb1e2b1b87",
   "metadata": {
    "id": "4fe85336-d7ff-4bfe-bce9-2ebb1e2b1b87"
   },
   "outputs": [],
   "source": [
    "!pip install fastai --upgrade\n",
    "!pip install fastcore\n",
    "!pip install ipywidgets\n",
    "!jupyter nbextension enable --py widgetsnbextension\n"
   ]
  },
  {
   "cell_type": "markdown",
   "id": "a94ad506-95bb-48be-8e42-2860e6213741",
   "metadata": {
    "id": "a94ad506-95bb-48be-8e42-2860e6213741"
   },
   "source": [
    "### Step 2: Import necessary libraries"
   ]
  },
  {
   "cell_type": "code",
   "execution_count": null,
   "id": "5eb91722-30ec-4242-a30f-8770a74faf1b",
   "metadata": {
    "id": "5eb91722-30ec-4242-a30f-8770a74faf1b"
   },
   "outputs": [],
   "source": [
    "from fastai.vision.all import *\n",
    "from fastai.callback.all import *\n",
    "from fastai.imports import *\n",
    "import pathlib"
   ]
  },
  {
   "cell_type": "markdown",
   "id": "9c6db2a3-0361-4b1e-8df0-ede48407ad23",
   "metadata": {
    "id": "9c6db2a3-0361-4b1e-8df0-ede48407ad23"
   },
   "source": [
    "### Step 3: Mount Google Drive to access the dataset"
   ]
  },
  {
   "cell_type": "code",
   "execution_count": null,
   "id": "e2df608a-e299-4943-97bc-9845613d9871",
   "metadata": {
    "id": "e2df608a-e299-4943-97bc-9845613d9871"
   },
   "outputs": [],
   "source": [
    "from google.colab import drive\n",
    "drive.mount('/content/drive')\n"
   ]
  },
  {
   "cell_type": "markdown",
   "id": "db9c892f-4d34-4ccc-9291-d95d28fe4cc8",
   "metadata": {
    "id": "db9c892f-4d34-4ccc-9291-d95d28fe4cc8"
   },
   "source": [
    "### Step 4: Define dataset path (modify according to your folder structure)"
   ]
  },
  {
   "cell_type": "markdown",
   "id": "61e3b96b-4556-4679-b5bf-bc7ea365f1ee",
   "metadata": {
    "id": "61e3b96b-4556-4679-b5bf-bc7ea365f1ee"
   },
   "source": [
    "#### Dataset Structure\n",
    "Organize your images in this structure:\n",
    "   ```\n",
    "   poultry_dataset/\n",
    "       cocci/\n",
    "           image1.jpg\n",
    "           image2.jpg\n",
    "           ...\n",
    "       healthy/\n",
    "           image1.jpg\n",
    "           image2.jpg\n",
    "           ...\n",
    "       ncd/\n",
    "           image1.jpg\n",
    "           image2.jpg\n",
    "           ...\n",
    "       other/\n",
    "           image1.jpg\n",
    "           image2.jpg\n",
    "           ...\n",
    "       salmo/\n",
    "           image1.jpg\n",
    "           image2.jpg\n",
    "           ...\n",
    "   ```"
   ]
  },
  {
   "cell_type": "code",
   "execution_count": null,
   "id": "e7b6c7d8-bdc2-4256-9d40-47e68e39a91b",
   "metadata": {
    "id": "e7b6c7d8-bdc2-4256-9d40-47e68e39a91b"
   },
   "outputs": [],
   "source": [
    "path = Path('/content/drive/MyDrive/poultry_dataset')  # Change to your dataset path\n",
    "classes = ['cocci', 'healthy', 'ncd', 'other', 'salmo']  # disease and healthy poultry classes\n"
   ]
  },
  {
   "cell_type": "code",
   "execution_count": null,
   "id": "6c1a0afd-e5fe-42b3-9696-d36e9760ca49",
   "metadata": {
    "id": "6c1a0afd-e5fe-42b3-9696-d36e9760ca49"
   },
   "outputs": [],
   "source": []
  },
  {
   "cell_type": "markdown",
   "id": "d2539455-eb0a-445d-a8f4-2e5b3f50303d",
   "metadata": {
    "id": "d2539455-eb0a-445d-a8f4-2e5b3f50303d"
   },
   "source": [
    "### Step 5: Prepare DataBlock"
   ]
  },
  {
   "cell_type": "code",
   "execution_count": null,
   "id": "eb3a003f-6467-4ea9-a55f-1c1f905971c9",
   "metadata": {
    "id": "eb3a003f-6467-4ea9-a55f-1c1f905971c9"
   },
   "outputs": [],
   "source": [
    "poultry = DataBlock(\n",
    "    blocks=(ImageBlock, CategoryBlock),  # Input: images, Output: categories\n",
    "    get_items=get_image_files,          # Get all image files\n",
    "    splitter=RandomSplitter(valid_pct=0.2, seed=42),  # 80-20 train-valid split\n",
    "    get_y=parent_label,                 # Get labels from folder names\n",
    "    item_tfms=Resize(460),              # Initial resize\n",
    "    batch_tfms=aug_transforms(size=224, min_scale=0.75)  # Augmentations\n",
    ")\n"
   ]
  },
  {
   "cell_type": "code",
   "execution_count": null,
   "id": "797c60e3-25a9-4f1a-b819-a965c8506983",
   "metadata": {
    "id": "797c60e3-25a9-4f1a-b819-a965c8506983"
   },
   "outputs": [],
   "source": []
  },
  {
   "cell_type": "markdown",
   "id": "ef734f5a-2271-42b3-bc27-37db53b180a9",
   "metadata": {
    "id": "ef734f5a-2271-42b3-bc27-37db53b180a9"
   },
   "source": [
    "### Step 6: Create DataLoaders"
   ]
  },
  {
   "cell_type": "code",
   "execution_count": null,
   "id": "5c2ed716-5215-43ae-afbe-a7b0a2aa5530",
   "metadata": {
    "id": "5c2ed716-5215-43ae-afbe-a7b0a2aa5530"
   },
   "outputs": [],
   "source": [
    "dls = poultry.dataloaders(path, bs=32)  # Batch size of 32\n"
   ]
  },
  {
   "cell_type": "code",
   "execution_count": null,
   "id": "aad23bb0-3dc3-426c-984a-5c7372b8f5dc",
   "metadata": {
    "id": "aad23bb0-3dc3-426c-984a-5c7372b8f5dc"
   },
   "outputs": [],
   "source": []
  },
  {
   "cell_type": "markdown",
   "id": "d7ce3586-3a44-4765-84d0-b4a4c08895e1",
   "metadata": {
    "id": "d7ce3586-3a44-4765-84d0-b4a4c08895e1"
   },
   "source": [
    "### Step 7: Verify data"
   ]
  },
  {
   "cell_type": "code",
   "execution_count": null,
   "id": "b89c52cd-ed5c-476e-bd79-9ce0fa3ced9d",
   "metadata": {
    "id": "b89c52cd-ed5c-476e-bd79-9ce0fa3ced9d"
   },
   "outputs": [],
   "source": [
    "dls.show_batch(max_n=6, nrows=2)  # Show sample batch\n"
   ]
  },
  {
   "cell_type": "code",
   "execution_count": null,
   "id": "5998ee78-861d-46a8-8018-a0a0f780652d",
   "metadata": {
    "id": "5998ee78-861d-46a8-8018-a0a0f780652d"
   },
   "outputs": [],
   "source": []
  },
  {
   "cell_type": "markdown",
   "id": "e546a305-72e4-418f-985b-a16343dc1014",
   "metadata": {
    "id": "e546a305-72e4-418f-985b-a16343dc1014"
   },
   "source": [
    "### Step 8: Create Learner with pretrained ResNet34"
   ]
  },
  {
   "cell_type": "code",
   "execution_count": null,
   "id": "ef294737-0392-4d43-b391-e254fa62ff1d",
   "metadata": {
    "id": "ef294737-0392-4d43-b391-e254fa62ff1d"
   },
   "outputs": [],
   "source": [
    "learn = vision_learner(\n",
    "    dls,\n",
    "    resnet34,               # Pretrained architecture\n",
    "    metrics=[accuracy, error_rate],  # Track accuracy and error rate\n",
    "    model_dir='/tmp/model'  # Directory to save models\n",
    ")\n"
   ]
  },
  {
   "cell_type": "code",
   "execution_count": null,
   "id": "e35d09fd-64df-4aa6-89d4-c1568bdd02df",
   "metadata": {
    "id": "e35d09fd-64df-4aa6-89d4-c1568bdd02df"
   },
   "outputs": [],
   "source": []
  },
  {
   "cell_type": "markdown",
   "id": "936d5cdc-6efc-4ab4-a714-df689ec8006e",
   "metadata": {
    "id": "936d5cdc-6efc-4ab4-a714-df689ec8006e"
   },
   "source": [
    "### Step 9: Find optimal learning rate"
   ]
  },
  {
   "cell_type": "code",
   "execution_count": null,
   "id": "954a9252-eaf0-4c07-9881-bba6b3d8f40b",
   "metadata": {
    "id": "954a9252-eaf0-4c07-9881-bba6b3d8f40b"
   },
   "outputs": [],
   "source": [
    "lr_min, lr_steep = learn.lr_find(suggest_funcs=(minimum, steep))\n",
    "print(f\"Minimum/10: {lr_min:.2e}, steepest point: {lr_steep:.2e}\")\n"
   ]
  },
  {
   "cell_type": "code",
   "execution_count": null,
   "id": "1b17ba22-4be6-4aa6-b2b8-20596d33e4d3",
   "metadata": {
    "id": "1b17ba22-4be6-4aa6-b2b8-20596d33e4d3"
   },
   "outputs": [],
   "source": []
  },
  {
   "cell_type": "markdown",
   "id": "cc26546a-afe9-4d01-afc9-14430104b4f5",
   "metadata": {
    "id": "cc26546a-afe9-4d01-afc9-14430104b4f5"
   },
   "source": [
    "### Step 10: Train model (fine-tuning)"
   ]
  },
  {
   "cell_type": "code",
   "execution_count": null,
   "id": "74eac8c1-43b2-47a0-88f1-ef5cf3f9cf3f",
   "metadata": {
    "id": "74eac8c1-43b2-47a0-88f1-ef5cf3f9cf3f"
   },
   "outputs": [],
   "source": [
    "learn.fine_tune(\n",
    "    epochs=10,\n",
    "    base_lr=lr_steep,       # Use the suggested learning rate\n",
    "    freeze_epochs=2,        # First train only new layers\n",
    "    cbs=[ShowGraphCallback(), SaveModelCallback()]  # Show graph and save best model\n",
    ")\n"
   ]
  },
  {
   "cell_type": "code",
   "execution_count": null,
   "id": "809cba6c-25ef-4950-a826-f116e7e54c7b",
   "metadata": {
    "id": "809cba6c-25ef-4950-a826-f116e7e54c7b"
   },
   "outputs": [],
   "source": []
  },
  {
   "cell_type": "markdown",
   "id": "32fc0102-db59-40b9-9fd3-17f9daa396e2",
   "metadata": {
    "id": "32fc0102-db59-40b9-9fd3-17f9daa396e2"
   },
   "source": [
    "### Step 11: Evaluate model"
   ]
  },
  {
   "cell_type": "code",
   "execution_count": null,
   "id": "c1e8718e-b1bd-4761-8c5e-6e725c8ad125",
   "metadata": {
    "id": "c1e8718e-b1bd-4761-8c5e-6e725c8ad125"
   },
   "outputs": [],
   "source": [
    "interp = ClassificationInterpretation.from_learner(learn)\n",
    "interp.plot_confusion_matrix(figsize=(8,8), dpi=60)\n"
   ]
  },
  {
   "cell_type": "code",
   "execution_count": null,
   "id": "e58d8237-5774-4cbc-b9e7-e10546efb95c",
   "metadata": {
    "id": "e58d8237-5774-4cbc-b9e7-e10546efb95c"
   },
   "outputs": [],
   "source": []
  },
  {
   "cell_type": "markdown",
   "id": "ca6e25d0-b89c-489f-abb4-4ff957a6cb50",
   "metadata": {
    "id": "ca6e25d0-b89c-489f-abb4-4ff957a6cb50"
   },
   "source": [
    "### Step 12: Show top losses"
   ]
  },
  {
   "cell_type": "code",
   "execution_count": null,
   "id": "619c5623-0427-44de-9d59-825faf260427",
   "metadata": {
    "id": "619c5623-0427-44de-9d59-825faf260427"
   },
   "outputs": [],
   "source": [
    "interp.plot_top_losses(6, nrows=2)\n"
   ]
  },
  {
   "cell_type": "code",
   "execution_count": null,
   "id": "75e3176a-f650-425a-a973-084dc09d52dc",
   "metadata": {
    "id": "75e3176a-f650-425a-a973-084dc09d52dc"
   },
   "outputs": [],
   "source": []
  },
  {
   "cell_type": "markdown",
   "id": "b0dc8cc3-aeac-4d3e-bb65-654a9d5701f7",
   "metadata": {
    "id": "b0dc8cc3-aeac-4d3e-bb65-654a9d5701f7"
   },
   "source": [
    "### Step 13: Export model"
   ]
  },
  {
   "cell_type": "code",
   "execution_count": null,
   "id": "7853f7dc-111a-439b-a7ad-82007fe707bc",
   "metadata": {
    "id": "7853f7dc-111a-439b-a7ad-82007fe707bc"
   },
   "outputs": [],
   "source": [
    "learn.export('poultry_classifier.pkl')\n"
   ]
  },
  {
   "cell_type": "code",
   "execution_count": null,
   "id": "a53202e8-5a75-4d1f-ae5f-7bc3cfeca7cf",
   "metadata": {
    "id": "a53202e8-5a75-4d1f-ae5f-7bc3cfeca7cf"
   },
   "outputs": [],
   "source": []
  },
  {
   "cell_type": "markdown",
   "id": "cb22c1cd-d61f-4b21-ab26-50ee2c99c7a0",
   "metadata": {
    "id": "cb22c1cd-d61f-4b21-ab26-50ee2c99c7a0"
   },
   "source": [
    "### Step 14: Create prediction function"
   ]
  },
  {
   "cell_type": "code",
   "execution_count": null,
   "id": "9a383c2a-300c-4b5a-a2ce-fb5cfc2c323b",
   "metadata": {
    "id": "9a383c2a-300c-4b5a-a2ce-fb5cfc2c323b"
   },
   "outputs": [],
   "source": [
    "def predict_poultry(img_path):\n",
    "    img = PILImage.create(img_path)\n",
    "    pred, _, probs = learn.predict(img)\n",
    "    print(f\"Prediction: {pred}\")\n",
    "    print(f\"Probabilities: {dict(zip(classes, map(float, probs)))}\")\n",
    "    return img.show()\n"
   ]
  },
  {
   "cell_type": "code",
   "execution_count": null,
   "id": "24575089-d3f2-466c-a612-35d4e6b63c96",
   "metadata": {
    "id": "24575089-d3f2-466c-a612-35d4e6b63c96"
   },
   "outputs": [],
   "source": []
  },
  {
   "cell_type": "markdown",
   "id": "6146806a-99fb-4225-a1df-cc22d7c02690",
   "metadata": {
    "id": "6146806a-99fb-4225-a1df-cc22d7c02690"
   },
   "source": [
    "### Step 15: Gradio demo - Prototype\n",
    "\n",
    "Gradio is an open-source Python library designed to make it easy to demo, share, and test models with minimal code"
   ]
  },
  {
   "cell_type": "code",
   "execution_count": null,
   "id": "ea6dfacb-daab-4d75-8a25-d8405d9d9d4b",
   "metadata": {
    "collapsed": true,
    "id": "ea6dfacb-daab-4d75-8a25-d8405d9d9d4b",
    "jupyter": {
     "outputs_hidden": true
    }
   },
   "outputs": [],
   "source": [
    "!pip install gradio\n",
    "import gradio as gr\n"
   ]
  },
  {
   "cell_type": "code",
   "execution_count": null,
   "id": "3effd05e-344f-429c-bc53-a9736dfcd2c2",
   "metadata": {
    "id": "3effd05e-344f-429c-bc53-a9736dfcd2c2"
   },
   "outputs": [],
   "source": []
  },
  {
   "cell_type": "code",
   "execution_count": null,
   "id": "3570bc00-3224-4e3d-8c7f-749bf3d561ff",
   "metadata": {
    "id": "3570bc00-3224-4e3d-8c7f-749bf3d561ff"
   },
   "outputs": [],
   "source": [
    "def classify_image(inp):\n",
    "    pred, _, probs = learn.predict(inp)\n",
    "    return {classes[i]: float(probs[i]) for i in range(len(classes))}\n"
   ]
  },
  {
   "cell_type": "code",
   "execution_count": null,
   "id": "2043a5c3-1587-48fa-95cd-6d1847bf1a9a",
   "metadata": {
    "id": "2043a5c3-1587-48fa-95cd-6d1847bf1a9a"
   },
   "outputs": [],
   "source": []
  },
  {
   "cell_type": "code",
   "execution_count": null,
   "id": "1ade2ccf-f0a6-4231-9765-46f5fcd1ed26",
   "metadata": {
    "id": "1ade2ccf-f0a6-4231-9765-46f5fcd1ed26"
   },
   "outputs": [],
   "source": [
    "demo = gr.Interface(\n",
    "    fn=classify_image,\n",
    "    inputs=gr.Image(),\n",
    "    outputs=gr.Label(num_top_classes=3),\n",
    "    examples=[str(f) for f in (path/'testimg').ls()[:2]]\n",
    ")\n"
   ]
  },
  {
   "cell_type": "code",
   "execution_count": null,
   "id": "d617dc73-7a1c-4809-ad55-706a4c181698",
   "metadata": {
    "id": "d617dc73-7a1c-4809-ad55-706a4c181698"
   },
   "outputs": [],
   "source": [
    "demo.launch(share=True)"
   ]
  },
  {
   "cell_type": "code",
   "execution_count": null,
   "id": "a8ee1a0c-57c4-4a81-9c4a-60dc88c33908",
   "metadata": {
    "id": "a8ee1a0c-57c4-4a81-9c4a-60dc88c33908"
   },
   "outputs": [],
   "source": []
  },
  {
   "cell_type": "markdown",
   "id": "9c3edc38-f8b4-4375-a96d-b39d80985f3d",
   "metadata": {
    "id": "0bde8975-915c-44f2-97eb-50d47bcb5e46"
   },
   "source": [
    "## TO DO\n",
    "- Change `resnet34` to other architectures like:\n",
    "     - `resnet18` (faster, less accurate)\n",
    "     - `resnet50` (slower, more accurate)\n",
    "- Compare the model performance from the various architectures"
   ]
  },
  {
   "cell_type": "markdown",
   "id": "77be3774-71b5-4f59-b53d-c7128a3e4841",
   "metadata": {
    "id": "f2dd2330-bbc5-4004-84d4-aa56afefe7b4"
   },
   "source": [
    "### Reference \n",
    "[Practical Deep Learning for Coders](https://course.fast.ai/)"
   ]
  },
  {
   "cell_type": "code",
   "execution_count": null,
   "id": "3779fbc8-568d-43d2-a33f-572752f81efd",
   "metadata": {
    "id": "3779fbc8-568d-43d2-a33f-572752f81efd"
   },
   "outputs": [],
   "source": []
  },
  {
   "cell_type": "code",
   "execution_count": null,
   "id": "9c13edb6-a942-4d96-a0e1-67b4e83bd78e",
   "metadata": {
    "id": "9c13edb6-a942-4d96-a0e1-67b4e83bd78e"
   },
   "outputs": [],
   "source": []
  },
  {
   "cell_type": "code",
   "execution_count": null,
   "id": "0a241866-46ca-4608-84bc-55bb989c2760",
   "metadata": {
    "id": "0a241866-46ca-4608-84bc-55bb989c2760"
   },
   "outputs": [],
   "source": []
  }
 ],
 "metadata": {
  "accelerator": "GPU",
  "colab": {
   "gpuType": "T4",
   "provenance": []
  },
  "kernelspec": {
   "display_name": "Python 3 (ipykernel)",
   "language": "python",
   "name": "python3"
  },
  "language_info": {
   "codemirror_mode": {
    "name": "ipython",
    "version": 3
   },
   "file_extension": ".py",
   "mimetype": "text/x-python",
   "name": "python",
   "nbconvert_exporter": "python",
   "pygments_lexer": "ipython3",
   "version": "3.13.0"
  }
 },
 "nbformat": 4,
 "nbformat_minor": 5
}
