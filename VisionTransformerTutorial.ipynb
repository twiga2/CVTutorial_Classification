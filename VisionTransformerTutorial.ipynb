{
 "cells": [
  {
   "cell_type": "markdown",
   "metadata": {},
   "source": [
    "## Vision Transformers on custom dataset\n",
    "- This notebook shows how to train a lightweight Vision Transformer using your own dataset (e.g. chicken disease detection)\n",
    "- You will Train ViT-Tiny (DeiT-Tiny)"
   ]
  },
  {
   "cell_type": "code",
   "execution_count": null,
   "metadata": {},
   "outputs": [],
   "source": [
    "# 1. Install dependencies\n",
    "!pip install transformers datasets torchvision accelerate --quiet"
   ]
  },
  {
   "cell_type": "code",
   "execution_count": null,
   "metadata": {},
   "outputs": [],
   "source": [
    "# 2. Mount Google Drive (optional if your dataset is there)\n",
    "from google.colab import drive\n",
    "drive.mount('/content/drive')"
   ]
  },
  {
   "cell_type": "code",
   "execution_count": null,
   "metadata": {},
   "outputs": [],
   "source": [
    "# 3. Load image folder dataset\n",
    "from datasets import load_dataset\n",
    "\n",
    "# Change path below to your dataset path\n",
    "data_path = \"/content/drive/MyDrive/poultry_dataset\"\n",
    "dataset = load_dataset(\"imagefolder\", data_dir=data_path)\n",
    "dataset = dataset[\"train\"].train_test_split(test_size=0.2, seed=42)"
   ]
  },
  {
   "cell_type": "code",
   "execution_count": null,
   "metadata": {},
   "outputs": [],
   "source": [
    "# 4. Load ViT processor and model\n",
    "from transformers import AutoImageProcessor, ViTForImageClassification\n",
    "\n",
    "checkpoint = \"facebook/deit-tiny-patch16-224\"\n",
    "processor = AutoImageProcessor.from_pretrained(checkpoint)\n",
    "\n",
    "labels = dataset[\"train\"].features[\"label\"].names\n",
    "id2label = {i: l for i, l in enumerate(labels)}\n",
    "label2id = {l: i for i, l in enumerate(labels)}\n",
    "\n",
    "model = ViTForImageClassification.from_pretrained(\n",
    "    checkpoint,\n",
    "    num_labels=len(labels),\n",
    "    id2label=id2label,\n",
    "    label2id=label2id,\n",
    "    ignore_mismatched_sizes=True\n",
    ")"
   ]
  },
  {
   "cell_type": "code",
   "execution_count": null,
   "metadata": {},
   "outputs": [],
   "source": [
    "# 5. Preprocess dataset\n",
    "from PIL import Image\n",
    "\n",
    "def preprocess(example):\n",
    "    image = Image.open(example[\"image\"]).convert(\"RGB\")\n",
    "    inputs = processor(image, return_tensors=\"pt\")\n",
    "    example[\"pixel_values\"] = inputs[\"pixel_values\"].squeeze().numpy()\n",
    "    example[\"labels\"] = example[\"label\"]\n",
    "    return example\n",
    "\n",
    "dataset = dataset.map(preprocess)\n",
    "dataset.set_format(type=\"torch\", columns=[\"pixel_values\", \"labels\"])"
   ]
  },
  {
   "cell_type": "code",
   "execution_count": null,
   "metadata": {},
   "outputs": [],
   "source": [
    "# 6. Wrap into PyTorch Dataset + DataLoader\n",
    "from torch.utils.data import Dataset, DataLoader\n",
    "\n",
    "class TorchImageDataset(Dataset):\n",
    "    def __init__(self, dataset):\n",
    "        self.dataset = dataset\n",
    "\n",
    "    def __len__(self):\n",
    "        return len(self.dataset)\n",
    "\n",
    "    def __getitem__(self, idx):\n",
    "        item = self.dataset[idx]\n",
    "        return {\n",
    "            \"pixel_values\": item[\"pixel_values\"],\n",
    "            \"labels\": item[\"labels\"]\n",
    "        }\n",
    "\n",
    "train_loader = DataLoader(TorchImageDataset(dataset[\"train\"]), batch_size=16, shuffle=True)\n",
    "test_loader = DataLoader(TorchImageDataset(dataset[\"test\"]), batch_size=16)"
   ]
  },
  {
   "cell_type": "code",
   "execution_count": null,
   "metadata": {},
   "outputs": [],
   "source": [
    "# 7. Train\n",
    "import torch\n",
    "from torch.optim import AdamW\n",
    "from tqdm import tqdm\n",
    "\n",
    "device = torch.device(\"cuda\" if torch.cuda.is_available() else \"cpu\")\n",
    "model.to(device)\n",
    "optimizer = AdamW(model.parameters(), lr=5e-5)\n",
    "\n",
    "num_epochs = 3\n",
    "for epoch in range(num_epochs):\n",
    "    model.train()\n",
    "    loop = tqdm(train_loader, leave=True)\n",
    "    total_loss = 0\n",
    "    for batch in loop:\n",
    "        pixel_values = batch[\"pixel_values\"].to(device)\n",
    "        labels = batch[\"labels\"].to(device)\n",
    "        outputs = model(pixel_values=pixel_values, labels=labels)\n",
    "        loss = outputs.loss\n",
    "        optimizer.zero_grad()\n",
    "        loss.backward()\n",
    "        optimizer.step()\n",
    "        total_loss += loss.item()\n",
    "        loop.set_description(f\"Epoch {epoch+1}\")\n",
    "        loop.set_postfix(loss=loss.item())\n",
    "\n",
    "    print(f\"Epoch {epoch+1} avg loss: {total_loss / len(train_loader):.4f}\")"
   ]
  },
  {
   "cell_type": "code",
   "execution_count": null,
   "metadata": {},
   "outputs": [],
   "source": [
    "# 8. Evaluate accuracy\n",
    "model.eval()\n",
    "correct = 0\n",
    "total = 0\n",
    "with torch.no_grad():\n",
    "    for batch in test_loader:\n",
    "        pixel_values = batch[\"pixel_values\"].to(device)\n",
    "        labels = batch[\"labels\"].to(device)\n",
    "        outputs = model(pixel_values=pixel_values)\n",
    "        preds = outputs.logits.argmax(dim=-1)\n",
    "        correct += (preds == labels).sum().item()\n",
    "        total += labels.size(0)\n",
    "\n",
    "print(f\"Test accuracy: {correct / total:.4f}\")"
   ]
  },
  {
   "cell_type": "code",
   "execution_count": null,
   "metadata": {},
   "outputs": [],
   "source": []
  },
  {
   "cell_type": "code",
   "execution_count": null,
   "metadata": {},
   "outputs": [],
   "source": [
    "model.save_pretrained(\"vit-tiny-poultry\")\n",
    "processor.save_pretrained(\"vit-tiny-poultry\")"
   ]
  },
  {
   "cell_type": "code",
   "execution_count": null,
   "metadata": {},
   "outputs": [],
   "source": []
  },
  {
   "cell_type": "markdown",
   "metadata": {},
   "source": [
    "### Prototype on Gradio"
   ]
  },
  {
   "cell_type": "code",
   "execution_count": null,
   "metadata": {},
   "outputs": [],
   "source": [
    "!pip install gradio"
   ]
  },
  {
   "cell_type": "code",
   "execution_count": null,
   "metadata": {},
   "outputs": [],
   "source": []
  },
  {
   "cell_type": "code",
   "execution_count": null,
   "metadata": {},
   "outputs": [],
   "source": [
    "from transformers import ViTForImageClassification, ViTFeatureExtractor\n",
    "import torch"
   ]
  },
  {
   "cell_type": "code",
   "execution_count": null,
   "metadata": {},
   "outputs": [],
   "source": []
  },
  {
   "cell_type": "code",
   "execution_count": null,
   "metadata": {},
   "outputs": [],
   "source": [
    "# Load saved model\n",
    "model_path = \"./vit-tiny-poultry\"\n",
    "model = ViTForImageClassification.from_pretrained(model_path)\n",
    "feature_extractor = ViTFeatureExtractor.from_pretrained(model_path)\n"
   ]
  },
  {
   "cell_type": "code",
   "execution_count": null,
   "metadata": {},
   "outputs": [],
   "source": [
    "# Move to GPU if available\n",
    "device = torch.device(\"cuda\" if torch.cuda.is_available() else \"cpu\")\n",
    "model.to(device)"
   ]
  },
  {
   "cell_type": "code",
   "execution_count": null,
   "metadata": {},
   "outputs": [],
   "source": []
  },
  {
   "cell_type": "code",
   "execution_count": null,
   "metadata": {},
   "outputs": [],
   "source": [
    "def predict(image):\n",
    "    # Preprocess image\n",
    "    inputs = feature_extractor(images=image, return_tensors=\"pt\").to(device)\n",
    "\n",
    "    # Run inference\n",
    "    with torch.no_grad():\n",
    "        outputs = model(**inputs)\n",
    "\n",
    "    # Get probabilities\n",
    "    probabilities = torch.nn.functional.softmax(outputs.logits, dim=-1)[0]\n",
    "\n",
    "    # Return dictionary of {class: probability}\n",
    "    return {model.config.id2label[i]: float(prob) for i, prob in enumerate(probabilities)}\n"
   ]
  },
  {
   "cell_type": "code",
   "execution_count": null,
   "metadata": {},
   "outputs": [],
   "source": [
    "import gradio as gr"
   ]
  },
  {
   "cell_type": "code",
   "execution_count": null,
   "metadata": {},
   "outputs": [],
   "source": []
  },
  {
   "cell_type": "code",
   "execution_count": null,
   "metadata": {},
   "outputs": [],
   "source": [
    "# Get class names (same as folder names)\n",
    "class_names = list(model.config.id2label.values())"
   ]
  },
  {
   "cell_type": "code",
   "execution_count": null,
   "metadata": {},
   "outputs": [],
   "source": []
  },
  {
   "cell_type": "code",
   "execution_count": null,
   "metadata": {},
   "outputs": [],
   "source": [
    "# Define Gradio interface\n",
    "demo = gr.Interface(\n",
    "    fn=predict,\n",
    "    inputs=gr.Image(type=\"pil\", label=\"Upload Poultry Image\"),\n",
    "    outputs=gr.Label(num_top_classes=3, label=\"Prediction\"),\n",
    "    examples=[\n",
    "        [\"chicken_healthy.jpg\"],  # Replace with actual sample paths\n",
    "        [\"chicken_cocci.jpg\"],\n",
    "        [\"chicken_ncd.jpg\"]\n",
    "    ],\n",
    "    title=\"🐔 Poultry Classifier (Vision Transformer)\",\n",
    "    description=\"Upload an image of a chicken dropping to classify it.\",\n",
    "    allow_flagging=\"never\"\n",
    ")"
   ]
  },
  {
   "cell_type": "code",
   "execution_count": null,
   "metadata": {},
   "outputs": [],
   "source": []
  },
  {
   "cell_type": "code",
   "execution_count": null,
   "metadata": {},
   "outputs": [],
   "source": [
    "# Run in Colab (creates a shareable link)\n",
    "demo.launch(share=True)"
   ]
  },
  {
   "cell_type": "code",
   "execution_count": null,
   "metadata": {},
   "outputs": [],
   "source": []
  },
  {
   "cell_type": "markdown",
   "metadata": {},
   "source": [
    "### TO DO\n",
    "1. Consider different ViT variants:\n",
    "   - `google/vit-base-patch16-224-in21k` \n",
    "   - `google/vit-small-patch16-224-in21k` (smaller, faster)\n",
    "\n",
    "2. Model evaluation using Confusion Matrix"
   ]
  },
  {
   "cell_type": "markdown",
   "metadata": {},
   "source": [
    "### Key Comparison features of Transformers to FastAI:\n",
    "\n",
    "1. Directory Structure:\n",
    "   - Identical folder-per-class structure as FastAI\n",
    "   - Automatically infers labels from folder names\n",
    "\n",
    "2. Data Loading:\n",
    "   - `load_dataset(\"imagefolder\")` replaces FastAI's `DataBlock`\n",
    "   - Automatically handles train/validation splits if `train`/`test` folders exist\n",
    "\n",
    "3. Transforms:\n",
    "   - `ViTFeatureExtractor` handles normalization/resizing like FastAI's `item_tfms`\n",
    "   \n",
    "\n",
    "4. Training:\n",
    "   - `Trainer` class provides similar high-level interface to FastAI's `Learner`\n",
    "  \n",
    "\n",
    "5. Model Saving:\n",
    "   - Saves model and preprocessing in one directory (like FastAI's `.export()`)\n"
   ]
  },
  {
   "cell_type": "code",
   "execution_count": null,
   "metadata": {},
   "outputs": [],
   "source": []
  },
  {
   "cell_type": "code",
   "execution_count": null,
   "metadata": {},
   "outputs": [],
   "source": []
  }
 ],
 "metadata": {
  "colab": {
   "name": "train_vit_tiny_imagefolder.ipynb",
   "provenance": [],
   "toc_visible": true
  },
  "kernelspec": {
   "display_name": "Python 3 (ipykernel)",
   "language": "python",
   "name": "python3"
  },
  "language_info": {
   "codemirror_mode": {
    "name": "ipython",
    "version": 3
   },
   "file_extension": ".py",
   "mimetype": "text/x-python",
   "name": "python",
   "nbconvert_exporter": "python",
   "pygments_lexer": "ipython3",
   "version": "3.13.0"
  }
 },
 "nbformat": 4,
 "nbformat_minor": 4
}
